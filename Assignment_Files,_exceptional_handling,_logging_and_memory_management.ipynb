{
  "nbformat": 4,
  "nbformat_minor": 0,
  "metadata": {
    "colab": {
      "provenance": []
    },
    "kernelspec": {
      "name": "python3",
      "display_name": "Python 3"
    },
    "language_info": {
      "name": "python"
    }
  },
  "cells": [
    {
      "cell_type": "markdown",
      "source": [
        "#Files, exceptional handling,logging and memory management Questions"
      ],
      "metadata": {
        "id": "xrqqbPnZlMDN"
      }
    },
    {
      "cell_type": "markdown",
      "source": [
        "1.What is the difference between interpreted and compiled languages?\n",
        "\n",
        "   - The main difference between interpreted and compiled languages lies in how they are translated into machine code (which the computer can understand and execute) :\n",
        "   \n",
        "   🔷 Compiled Languages\n",
        "\n",
        "    > Translated entirely before execution.\n",
        "\n",
        "    > A compiler converts the whole program into machine code in one go.\n",
        "\n",
        "    > Output is an executable file (e.g., .exe).\n",
        "\n",
        "    > Faster at runtime since the code is already compiled.\n",
        "\n",
        "     🔷 Interpreted Languages\n",
        "\n",
        "    > Translated and executed line by line at runtime.\n",
        "\n",
        "    > An interpreter reads and executes the code on the fly.\n",
        "\n",
        "    > No separate executable file is created."
      ],
      "metadata": {
        "id": "cXbe0p3ulVBy"
      }
    },
    {
      "cell_type": "markdown",
      "source": [
        "2. What is exception handling in Python?\n",
        "\n",
        "   - Exception handling in Python is a way to gracefully manage errors that occur while a program is running. Instead of crashing, the program can catch the error and respond to it.\n",
        "\n"
      ],
      "metadata": {
        "id": "BRWxOjVqmngv"
      }
    },
    {
      "cell_type": "markdown",
      "source": [
        "3. What is the purpose of the finally block in exception handling?\n",
        "\n",
        "   - The finally block is used to define code that must run no matter what—whether an exception was raised or not."
      ],
      "metadata": {
        "id": "QIP6tGkqnA7E"
      }
    },
    {
      "cell_type": "markdown",
      "source": [
        "4. What is logging in Python?\n",
        "\n",
        "   - Logging in Python is a way to track events that happen when your code runs. It helps developers debug, monitor, and record information about the program's execution.\n",
        "\n",
        "    Instead of using print() statements for debugging, logging gives you more control over:\n",
        "\n",
        "  > What is recorded\n",
        "\n",
        "  > Where it’s recorded (console, file, etc.)\n",
        "\n",
        "  > The level of importance (info, warning, error, etc.)\n",
        "\n"
      ],
      "metadata": {
        "id": "ZDyrk5XpnSlH"
      }
    },
    {
      "cell_type": "markdown",
      "source": [
        "5. What is the significance of the __del__ method in Python?\n",
        "\n",
        "   - The __del__ method is a special method in Python, also known as a destructor. It is called when an object is about to be destroyed — typically when there are no more references to it.\n",
        "\n"
      ],
      "metadata": {
        "id": "PThJVkegn4A9"
      }
    },
    {
      "cell_type": "markdown",
      "source": [
        "6. What is the difference between import and from ... import in Python?\n",
        "\n",
        "   - Both import and from ... import are used to bring external modules or functions into your Python code, but they work a bit differently.\n",
        "\n"
      ],
      "metadata": {
        "id": "JpHVHRWpoHnN"
      }
    },
    {
      "cell_type": "markdown",
      "source": [
        "7. How can you handle multiple exceptions in Python?\n",
        "\n",
        "   - Python allows you to handle multiple types of exceptions using try and multiple except blocks. This is useful when different exceptions may occur in the same code block and require different handling.\n",
        "\n"
      ],
      "metadata": {
        "id": "LPNDTbyfogYT"
      }
    },
    {
      "cell_type": "markdown",
      "source": [
        "8. What is the purpose of the with statement when handling files in Python?\n",
        "\n",
        "   - The with statement in Python is used for resource management, especially when working with files. It ensures that resources like files are properly closed, even if an error occurs during the operation.\n",
        "\n"
      ],
      "metadata": {
        "id": "_qPUbx3_o3IG"
      }
    },
    {
      "cell_type": "markdown",
      "source": [
        "9. What is the difference between multithreading and multiprocessing?\n",
        "\n",
        "   - Both multithreading and multiprocessing are used to run tasks concurrently, but they differ in how they achieve it and what they are best suited for."
      ],
      "metadata": {
        "id": "-CM5JaRBpKKZ"
      }
    },
    {
      "cell_type": "markdown",
      "source": [
        "10.  What are the advantages of using logging in a program?\n",
        "\n",
        "   - Logging is a powerful tool for monitoring, debugging, and maintaining your program—especially as it grows in size and complexity."
      ],
      "metadata": {
        "id": "h78MTV2dpj3w"
      }
    },
    {
      "cell_type": "markdown",
      "source": [
        "11. What is memory management in Python?\n",
        "\n",
        "   - Memory management in Python refers to how the language allocates, uses, and releases memory during the execution of a program.\n",
        "\n",
        "     Python handles memory management automatically, using built-in systems like the heap, reference counting, and garbage collection, so developers usually don’t need to manage memory manually (unlike in languages like C or C++)."
      ],
      "metadata": {
        "id": "-KdW18b5p3Sj"
      }
    },
    {
      "cell_type": "markdown",
      "source": [
        "12. What are the basic steps involved in exception handling in Python?\n",
        "\n",
        "   - Exception handling in Python allows your program to respond gracefully to runtime errors, instead of crashing. The process involves using the try, except, else, and finally blocks.\n",
        "\n"
      ],
      "metadata": {
        "id": "-w6jXzlbqKTq"
      }
    },
    {
      "cell_type": "markdown",
      "source": [
        "13. Why is memory management important in Python?\n",
        "\n",
        "   - Memory management is crucial in Python (and any programming language) because it ensures that your program runs efficiently, stably, and without crashing due to memory issues.\n",
        "\n"
      ],
      "metadata": {
        "id": "G1pQ1cntqbwx"
      }
    },
    {
      "cell_type": "markdown",
      "source": [
        "14. What is the role of try and except in exception handling?\n",
        "\n",
        "   - The try and except blocks are the core elements of Python's exception handling mechanism. They help your program catch and handle errors gracefully, instead of crashing when something unexpected happens."
      ],
      "metadata": {
        "id": "4HPraYi0qnOh"
      }
    },
    {
      "cell_type": "markdown",
      "source": [
        "15.  How does Python's garbage collection system work?\n",
        "\n",
        "   - Python’s garbage collection system is part of its memory management. It automatically frees up memory by removing objects that are no longer in use, so you don’t have to manually deallocate memory like in C/C++.\n",
        "\n"
      ],
      "metadata": {
        "id": "xLnu0ARTq5P_"
      }
    },
    {
      "cell_type": "markdown",
      "source": [
        "16. What is the purpose of the else block in exception handling?\n",
        "\n",
        "   - The else block in Python exception handling is used to define code that should run only if no exception occurs in the try block."
      ],
      "metadata": {
        "id": "RDPvGmZLrPom"
      }
    },
    {
      "cell_type": "markdown",
      "source": [
        "17. What are the common logging levels in Python?\n",
        "\n",
        "   - Python’s built-in logging module provides five standard logging levels, each indicating the severity or importance of the message being logged."
      ],
      "metadata": {
        "id": "3l3mA2VLrfWE"
      }
    },
    {
      "cell_type": "markdown",
      "source": [
        "18. What is the difference between os.fork() and multiprocessing in Python?\n",
        "\n",
        "   - Both os.fork() and the multiprocessing module can be used to create new processes in Python. However, they differ in portability, ease of use, and control."
      ],
      "metadata": {
        "id": "mKFikRGxry2m"
      }
    },
    {
      "cell_type": "markdown",
      "source": [
        "19. What is the importance of closing a file in Python?\n",
        "\n",
        "   - Closing a file in Python using the close() method is crucial for properly managing system resources and ensuring data integrity."
      ],
      "metadata": {
        "id": "AdrYv64BsEnm"
      }
    },
    {
      "cell_type": "markdown",
      "source": [
        "20.  What is the difference between file.read() and file.readline() in Python?\n",
        "\n",
        "   - Both file.read() and file.readline() are used to read data from a file, but they behave differently depending on how much data you want to read at once."
      ],
      "metadata": {
        "id": "7odrsmPnsTmP"
      }
    },
    {
      "cell_type": "markdown",
      "source": [
        "21. What is the logging module in Python used for?\n",
        "\n",
        "   - The logging module in Python is used to record messages about the execution of your program. It helps developers track events, debug issues, monitor behavior, and maintain applications—especially large or long-running ones."
      ],
      "metadata": {
        "id": "putCkIbIslGp"
      }
    },
    {
      "cell_type": "markdown",
      "source": [
        "22. What is the os module in Python used for in file handling?\n",
        "\n",
        "   - The os module in Python provides functions to interact with the operating system, especially for working with files and directories.\n",
        "\n",
        "     It's essential for performing file handling tasks that go beyond just reading and writing — like navigating the file system, renaming, deleting files, or checking their properties."
      ],
      "metadata": {
        "id": "jwNaZBz_sy-U"
      }
    },
    {
      "cell_type": "markdown",
      "source": [
        "23. What are the challenges associated with memory management in Python?\n",
        "\n",
        "   - While Python provides automatic memory management using reference counting and garbage collection, it’s not perfect. Developers still face challenges, especially when working with large-scale or performance-sensitive applications.\n",
        "\n"
      ],
      "metadata": {
        "id": "TsT-Ke-vtEly"
      }
    },
    {
      "cell_type": "markdown",
      "source": [
        "24. How do you raise an exception manually in Python?\n",
        "\n",
        "   - In Python, you can manually raise an exception using the raise keyword. This is useful when you want to enforce rules, validate data, or signal errors intentionally during program execution."
      ],
      "metadata": {
        "id": "lhFwD4eBtQdS"
      }
    },
    {
      "cell_type": "markdown",
      "source": [
        "25. Why is it important to use multithreading in certain applications?\n",
        "\n",
        "   - Multithreading allows a program to run multiple threads concurrently—sharing the same memory space but doing different tasks. This is especially useful for improving responsiveness, efficiency, and performance in certain types of applications."
      ],
      "metadata": {
        "id": "oBlMtlFMtcL-"
      }
    },
    {
      "cell_type": "markdown",
      "source": [
        "#Practical Questions"
      ],
      "metadata": {
        "id": "TAC1LSNPt0O_"
      }
    },
    {
      "cell_type": "code",
      "source": [
        "'''1.How can you open a file for writing in Python and write a string to it?'''\n",
        "with open(\"example.txt\", \"w\") as file:\n",
        "    file.write(\"Hello, this is a line of text.\")\n"
      ],
      "metadata": {
        "id": "F3yc5Ywlt5r_"
      },
      "execution_count": 2,
      "outputs": []
    },
    {
      "cell_type": "code",
      "execution_count": 13,
      "metadata": {
        "colab": {
          "base_uri": "https://localhost:8080/"
        },
        "id": "UCBaINTJk-M2",
        "outputId": "acc557c8-8184-4fed-aaab-cf0cba4ac486"
      },
      "outputs": [
        {
          "output_type": "stream",
          "name": "stdout",
          "text": [
            "Hello, this is a line of text.\n"
          ]
        }
      ],
      "source": [
        "'''2.Write a Python program to read the contents of a file and print each line'''\n",
        "# File reading program\n",
        "file_name = \"example.txt\"  # Replace with your file name\n",
        "\n",
        "try:\n",
        "    with open(file_name, \"r\") as file:\n",
        "        for line in file:\n",
        "            print(line.strip())  # strip() removes the newline character\n",
        "except FileNotFoundError:\n",
        "    print(\"The file does not exist.\")\n"
      ]
    },
    {
      "cell_type": "code",
      "source": [
        "'''3.How would you handle a case where the file doesn't exist while trying to open it for reading?'''\n",
        "file_name = \"nonexistent_file.txt\"\n",
        "\n",
        "try:\n",
        "    with open(file_name, \"r\") as file:\n",
        "        for line in file:\n",
        "            print(line.strip())\n",
        "except FileNotFoundError:\n",
        "    print(f\"Error: The file '{file_name}' does not exist.\")\n"
      ],
      "metadata": {
        "colab": {
          "base_uri": "https://localhost:8080/"
        },
        "id": "z3HK_tp8Me-O",
        "outputId": "6f107096-1fbc-499d-b1cd-5543435c0a9f"
      },
      "execution_count": 14,
      "outputs": [
        {
          "output_type": "stream",
          "name": "stdout",
          "text": [
            "Error: The file 'nonexistent_file.txt' does not exist.\n"
          ]
        }
      ]
    },
    {
      "cell_type": "code",
      "source": [
        "'''4.Write a Python script that reads from one file and writes its content to another file.'''\n",
        "# Define the source and destination file names\n",
        "source_file = \"source.txt\"        # File to read from\n",
        "destination_file = \"copy.txt\"     # File to write to\n",
        "\n",
        "try:\n",
        "    # Open the source file in read mode\n",
        "    with open(source_file, \"r\") as src:\n",
        "        # Read the entire content\n",
        "        content = src.read()\n",
        "\n",
        "    # Open the destination file in write mode\n",
        "    with open(destination_file, \"w\") as dest:\n",
        "        dest.write(content)\n",
        "\n",
        "    print(f\"Contents copied from '{source_file}' to '{destination_file}' successfully.\")\n",
        "\n",
        "except FileNotFoundError:\n",
        "    print(f\"Error: '{source_file}' does not exist.\")\n",
        "except IOError as e:\n",
        "    print(f\"I/O error occurred: {e}\")\n"
      ],
      "metadata": {
        "colab": {
          "base_uri": "https://localhost:8080/"
        },
        "id": "9DD91rOmLZTb",
        "outputId": "2b1b3d87-7c77-460d-c100-9a05826d8fd6"
      },
      "execution_count": 18,
      "outputs": [
        {
          "output_type": "stream",
          "name": "stdout",
          "text": [
            "Error: 'source.txt' does not exist.\n"
          ]
        }
      ]
    },
    {
      "cell_type": "code",
      "source": [
        "'''5.How would you catch and handle division by zero error in Python?'''\n",
        "try:\n",
        "    a = 10\n",
        "    b = 0\n",
        "    result = a / b\n",
        "except ZeroDivisionError:\n",
        "    print(\"Error: You can't divide by zero.\")\n"
      ],
      "metadata": {
        "colab": {
          "base_uri": "https://localhost:8080/"
        },
        "id": "36aOdXZhNCST",
        "outputId": "0ddd5769-2e0e-46ac-b1a4-69f66b5cc88c"
      },
      "execution_count": 19,
      "outputs": [
        {
          "output_type": "stream",
          "name": "stdout",
          "text": [
            "Error: You can't divide by zero.\n"
          ]
        }
      ]
    },
    {
      "cell_type": "code",
      "source": [
        "'''6.Write a Python program that logs an error message to a log file when a division by zero exception occurs.'''\n",
        "import logging\n",
        "\n",
        "# Configure logging to write to a file\n",
        "logging.basicConfig(\n",
        "    filename='error_log.txt',\n",
        "    level=logging.ERROR,\n",
        "    format='%(asctime)s - %(levelname)s - %(message)s'\n",
        ")\n",
        "\n",
        "try:\n",
        "    a = 10\n",
        "    b = 0\n",
        "    result = a / b\n",
        "except ZeroDivisionError as e:\n",
        "    logging.error(\"Division by zero attempted: %s\", e)\n",
        "    print(\"An error occurred. Please check the log file 'error_log.txt'.\")\n"
      ],
      "metadata": {
        "colab": {
          "base_uri": "https://localhost:8080/"
        },
        "id": "_n5NToIAOzay",
        "outputId": "91a519d4-a3f4-4f67-b4e2-ead4aca30549"
      },
      "execution_count": 20,
      "outputs": [
        {
          "output_type": "stream",
          "name": "stderr",
          "text": [
            "ERROR:root:Division by zero attempted: division by zero\n"
          ]
        },
        {
          "output_type": "stream",
          "name": "stdout",
          "text": [
            "An error occurred. Please check the log file 'error_log.txt'.\n"
          ]
        }
      ]
    },
    {
      "cell_type": "code",
      "source": [
        "'''7.How do you log information at different levels (INFO, ERROR, WARNING) in Python using the logging module?'''\n",
        "import logging\n",
        "\n",
        "# Configure logging\n",
        "logging.basicConfig(\n",
        "    level=logging.DEBUG,  # Set minimum level to capture all logs\n",
        "    format='%(asctime)s - %(levelname)s - %(message)s'\n",
        ")\n",
        "\n",
        "# Log messages at different levels\n",
        "logging.debug(\"Debugging info: variable x = 10\")\n",
        "logging.info(\"Application started successfully\")\n",
        "logging.warning(\"Low disk space warning\")\n",
        "logging.error(\"Error opening file\")\n",
        "logging.critical(\"Critical failure: system shutdown\")\n"
      ],
      "metadata": {
        "colab": {
          "base_uri": "https://localhost:8080/"
        },
        "id": "x3a9n8JlPBDH",
        "outputId": "1dac19e8-baf1-400a-a23a-a8a32841179d"
      },
      "execution_count": 21,
      "outputs": [
        {
          "output_type": "stream",
          "name": "stderr",
          "text": [
            "WARNING:root:Low disk space warning\n",
            "ERROR:root:Error opening file\n",
            "CRITICAL:root:Critical failure: system shutdown\n"
          ]
        }
      ]
    },
    {
      "cell_type": "code",
      "source": [
        "'''8.Write a program to handle a file opening error using exception handling.'''\n",
        "file_name = \"nonexistent_file.txt\"  # Replace with a file that may not exist\n",
        "\n",
        "try:\n",
        "    with open(file_name, \"r\") as file:\n",
        "        content = file.read()\n",
        "        print(\"File content:\\n\", content)\n",
        "except FileNotFoundError:\n",
        "    print(f\"Error: The file '{file_name}' was not found.\")\n",
        "except PermissionError:\n",
        "    print(f\"Error: You don't have permission to read the file '{file_name}'.\")\n",
        "except Exception as e:\n",
        "    print(f\"An unexpected error occurred: {e}\")\n"
      ],
      "metadata": {
        "colab": {
          "base_uri": "https://localhost:8080/"
        },
        "id": "ANHOtoTcPSW7",
        "outputId": "feb79ab5-0982-482d-d66a-ceed3821f1af"
      },
      "execution_count": 22,
      "outputs": [
        {
          "output_type": "stream",
          "name": "stdout",
          "text": [
            "Error: The file 'nonexistent_file.txt' was not found.\n"
          ]
        }
      ]
    },
    {
      "cell_type": "code",
      "source": [
        "'''9. How can you read a file line by line and store its content in a list in Python?'''\n",
        "with open(\"example.txt\", \"r\") as file:\n",
        "    lines = file.readlines()\n",
        "\n",
        "print(lines)"
      ],
      "metadata": {
        "colab": {
          "base_uri": "https://localhost:8080/"
        },
        "id": "d2ebM9NtPurB",
        "outputId": "bc5455f9-0d99-4a4e-add9-6f50493b34fa"
      },
      "execution_count": 24,
      "outputs": [
        {
          "output_type": "stream",
          "name": "stdout",
          "text": [
            "['Hello, this is a line of text.']\n"
          ]
        }
      ]
    },
    {
      "cell_type": "code",
      "source": [
        "'''10. How can you append data to an existing file in Python?'''\n",
        "file_name = \"example.txt\"\n",
        "\n",
        "# Append a line to the file\n",
        "with open(file_name, \"a\") as file:\n",
        "    file.write(\"This is a new line of text.\\n\")\n",
        "\n",
        "print(f\"Text appended to '{file_name}'.\")\n"
      ],
      "metadata": {
        "colab": {
          "base_uri": "https://localhost:8080/"
        },
        "id": "p73i1WATQD6Q",
        "outputId": "8e0f41a6-cd82-4b20-f355-034fa0cb2acc"
      },
      "execution_count": 25,
      "outputs": [
        {
          "output_type": "stream",
          "name": "stdout",
          "text": [
            "Text appended to 'example.txt'.\n"
          ]
        }
      ]
    },
    {
      "cell_type": "code",
      "source": [
        "'''11.Write a Python program that uses a try-except block to handle an error when attempting to access a\n",
        "dictionary key that doesn't exist.'''\n",
        "# Sample dictionary\n",
        "student_scores = {\n",
        "    \"Alice\": 85,\n",
        "    \"Bob\": 92,\n",
        "    \"Charlie\": 78\n",
        "}\n",
        "\n",
        "# Try to access a key that may not exist\n",
        "try:\n",
        "    name = \"David\"\n",
        "    score = student_scores[name]\n",
        "    print(f\"{name}'s score is {score}\")\n",
        "except KeyError:\n",
        "    print(f\"Error: '{name}' is not in the dictionary.\")\n"
      ],
      "metadata": {
        "colab": {
          "base_uri": "https://localhost:8080/"
        },
        "id": "acqfQb5BQbLa",
        "outputId": "3ac350ca-da5d-4ec2-a390-af21b9b15976"
      },
      "execution_count": 26,
      "outputs": [
        {
          "output_type": "stream",
          "name": "stdout",
          "text": [
            "Error: 'David' is not in the dictionary.\n"
          ]
        }
      ]
    },
    {
      "cell_type": "code",
      "source": [
        "'''12. Write a program that demonstrates using multiple except blocks to handle different types of exceptions.'''\n",
        "def exception_demo():\n",
        "    try:\n",
        "        # Trigger a ValueError\n",
        "        number = int(input(\"Enter a number: \"))\n",
        "\n",
        "        # Trigger a ZeroDivisionError\n",
        "        result = 10 / number\n",
        "\n",
        "        # Trigger a KeyError\n",
        "        sample_dict = {\"a\": 1, \"b\": 2}\n",
        "        print(sample_dict[\"c\"])\n",
        "\n",
        "    except ValueError:\n",
        "        print(\"You did not enter a valid integer.\")\n",
        "\n",
        "    except ZeroDivisionError:\n",
        "        print(\"Division by zero is not allowed.\")\n",
        "\n",
        "    except KeyError as e:\n",
        "        print(f\"KeyError: The key '{e}' does not exist in the dictionary.\")\n",
        "\n",
        "    except Exception as e:\n",
        "        print(f\"An unexpected error occurred: {e}\")\n",
        "\n",
        "# Run the function\n",
        "exception_demo()\n"
      ],
      "metadata": {
        "colab": {
          "base_uri": "https://localhost:8080/"
        },
        "id": "Ua-SA51-QsYC",
        "outputId": "1699da8c-7351-4c34-f7d7-a702dd21960f"
      },
      "execution_count": 32,
      "outputs": [
        {
          "output_type": "stream",
          "name": "stdout",
          "text": [
            "Enter a number: 12\n",
            "KeyError: The key ''c'' does not exist in the dictionary.\n"
          ]
        }
      ]
    },
    {
      "cell_type": "code",
      "source": [
        "'''13.How would you check if a file exists before attempting to read it in Python?'''\n",
        "import os\n",
        "\n",
        "file_name = \"example.txt\"\n",
        "\n",
        "if os.path.exists(file_name):\n",
        "    with open(file_name, \"r\") as file:\n",
        "        content = file.read()\n",
        "        print(content)\n",
        "else:\n",
        "    print(f\"Error: '{file_name}' does not exist.\")\n"
      ],
      "metadata": {
        "colab": {
          "base_uri": "https://localhost:8080/"
        },
        "id": "NdnrjU8BSEZd",
        "outputId": "6230a2d5-a671-40df-fb6a-8b13bf983c4f"
      },
      "execution_count": 33,
      "outputs": [
        {
          "output_type": "stream",
          "name": "stdout",
          "text": [
            "Hello, this is a line of text.This is a new line of text.\n",
            "\n"
          ]
        }
      ]
    },
    {
      "cell_type": "code",
      "source": [
        "'''14.Write a program that uses the logging module to log both informational and error messages.'''\n",
        "import logging\n",
        "\n",
        "# Basic logging setup\n",
        "logging.basicConfig(level=logging.INFO)\n",
        "\n",
        "def divide(a, b):\n",
        "    try:\n",
        "        result = a / b\n",
        "        logging.info(f\"Result: {result}\")\n",
        "    except ZeroDivisionError:\n",
        "        logging.error(\"Cannot divide by zero.\")\n",
        "    except Exception as e:\n",
        "        logging.error(f\"Error: {e}\")\n",
        "\n",
        "# Test the function\n",
        "divide(10, 2)\n",
        "#divide(10, 0)\n",
        "#divide(\"10\", 2)"
      ],
      "metadata": {
        "id": "ZpsXk_zTQ-aY"
      },
      "execution_count": 35,
      "outputs": []
    },
    {
      "cell_type": "code",
      "source": [
        "'''15.Write a Python program that prints the content of a file and handles the case when the file is empty.'''\n",
        "def read_file(filename):\n",
        "    try:\n",
        "        with open(filename, 'r') as file:\n",
        "            content = file.read()\n",
        "            if content.strip() == \"\":\n",
        "                print(\"The file is empty.\")\n",
        "            else:\n",
        "                print(\"File content:\")\n",
        "                print(content)\n",
        "    except FileNotFoundError:\n",
        "        print(\"The file does not exist.\")\n",
        "    except Exception as e:\n",
        "        print(f\"An error occurred: {e}\")\n",
        "\n",
        "# Example usage\n",
        "read_file(\"example.txt\")"
      ],
      "metadata": {
        "colab": {
          "base_uri": "https://localhost:8080/"
        },
        "id": "vEJX0QzkS2KL",
        "outputId": "bc69727c-353f-4fd5-fde4-122e78c09e94"
      },
      "execution_count": 41,
      "outputs": [
        {
          "output_type": "stream",
          "name": "stdout",
          "text": [
            "File content:\n",
            "Hello, this is a line of text.This is a new line of text.\n",
            "\n"
          ]
        }
      ]
    },
    {
      "cell_type": "code",
      "source": [
        "'''16.Demonstrate how to use memory profiling to check the memory usage of a small program.'''\n",
        "pip install memory-profiler\n",
        "from memory_profiler import profile\n",
        "\n",
        "@profile\n",
        "def create_large_list():\n",
        "    large_list = [i * 2 for i in range(100000)]\n",
        "    return sum(large_list)\n",
        "\n",
        "if __name__ == \"__main__\":\n",
        "    create_large_list()\n",
        "python -m memory_profiler your_script.py"
      ],
      "metadata": {
        "id": "FTZOw9eqYIU2"
      },
      "execution_count": null,
      "outputs": []
    },
    {
      "cell_type": "code",
      "source": [
        "'''17.Write a Python program to create and write a list of numbers to a file, one number per line.'''\n",
        "# Define a list of numbers\n",
        "numbers = [1, 2, 3, 4, 5, 10, 20, 30]\n",
        "\n",
        "# Specify the output file name\n",
        "file_name = \"numbers.txt\"\n",
        "\n",
        "# Write each number to the file, one per line\n",
        "with open(file_name, 'w') as file:\n",
        "    for number in numbers:\n",
        "        file.write(f\"{number}\\n\")\n",
        "\n",
        "print(f\"Numbers have been written to {file_name}.\")\n",
        "with open(\"numbers.txt\", \"r\") as file:\n",
        "    for line in file:\n",
        "        print(line.strip())"
      ],
      "metadata": {
        "colab": {
          "base_uri": "https://localhost:8080/"
        },
        "id": "Jh900djOYKHg",
        "outputId": "c6ecf140-0ca7-44fe-addc-790811115e57"
      },
      "execution_count": 60,
      "outputs": [
        {
          "output_type": "stream",
          "name": "stdout",
          "text": [
            "Numbers have been written to numbers.txt.\n",
            "1\n",
            "2\n",
            "3\n",
            "4\n",
            "5\n",
            "10\n",
            "20\n",
            "30\n"
          ]
        }
      ]
    },
    {
      "cell_type": "code",
      "source": [
        "'''18.How would you implement a basic logging setup that logs to a file with rotation after 1MB?'''\n",
        "import logging\n",
        "from logging.handlers import RotatingFileHandler\n",
        "\n",
        "# Set up a rotating file handler\n",
        "log_file = \"app.log\"\n",
        "handler = RotatingFileHandler(log_file, maxBytes=1_000_000, backupCount=3)\n",
        "\n",
        "# Configure logging\n",
        "logging.basicConfig(\n",
        "    level=logging.INFO,\n",
        "    format=\"%(asctime)s - %(levelname)s - %(message)s\",\n",
        "    handlers=[handler]\n",
        ")\n",
        "\n",
        "# Example usage\n",
        "for i in range(10000):\n",
        "    logging.info(f\"This is log message number {i}\")"
      ],
      "metadata": {
        "id": "otyRCEDvVuyr"
      },
      "execution_count": 61,
      "outputs": []
    },
    {
      "cell_type": "code",
      "source": [
        "'''19.Write a program that handles both IndexError and KeyError using a try-except block.'''\n",
        "def handle_errors():\n",
        "    my_list = [1, 2, 3]\n",
        "    my_dict = {\"a\": 10, \"b\": 20}\n",
        "\n",
        "    try:\n",
        "        # This will raise IndexError\n",
        "        print(my_list[2])\n",
        "\n",
        "        # This will raise KeyError\n",
        "        print(my_dict[\"h\"])\n",
        "\n",
        "    except IndexError:\n",
        "        print(\"IndexError: List index is out of range.\")\n",
        "\n",
        "    except KeyError:\n",
        "        print(\"KeyError: Key not found in dictionary.\")\n",
        "\n",
        "# Run the function\n",
        "handle_errors()"
      ],
      "metadata": {
        "colab": {
          "base_uri": "https://localhost:8080/"
        },
        "id": "RXDbJz_CY-8h",
        "outputId": "f54377f9-a00e-4053-86b6-e1327b451d09"
      },
      "execution_count": 62,
      "outputs": [
        {
          "output_type": "stream",
          "name": "stdout",
          "text": [
            "3\n",
            "KeyError: Key not found in dictionary.\n"
          ]
        }
      ]
    },
    {
      "cell_type": "code",
      "source": [
        "'''20.How would you open a file and read its contents using a context manager in Python?'''\n",
        "file_path = \"example.txt\"\n",
        "\n",
        "# Open and read the file using a context manager\n",
        "with open(file_path, 'r') as file:\n",
        "    content = file.read()\n",
        "    print(content)"
      ],
      "metadata": {
        "colab": {
          "base_uri": "https://localhost:8080/"
        },
        "id": "sHY7EjtnZNBd",
        "outputId": "f77435f0-4e7f-4022-8b3b-b36bbf00e294"
      },
      "execution_count": 63,
      "outputs": [
        {
          "output_type": "stream",
          "name": "stdout",
          "text": [
            "Hello, this is a line of text.This is a new line of text.\n",
            "\n"
          ]
        }
      ]
    },
    {
      "cell_type": "code",
      "source": [
        "'''21.Write a Python program that reads a file and prints the number of occurrences of a specific word.'''\n",
        "def count_word_occurrences(filename, target_word):\n",
        "    try:\n",
        "        with open(filename, 'r') as file:\n",
        "            content = file.read().lower()  # Convert to lowercase for case-insensitive matching\n",
        "            word_count = content.split().count(target_word.lower())\n",
        "            print(f\"The word '{target_word}' occurs {word_count} times in the file.\")\n",
        "    except FileNotFoundError:\n",
        "        print(\"The file does not exist.\")\n",
        "    except Exception as e:\n",
        "        print(f\"An error occurred: {e}\")\n",
        "\n",
        "# Example usage\n",
        "count_word_occurrences(\"example.txt\", \"new\")"
      ],
      "metadata": {
        "colab": {
          "base_uri": "https://localhost:8080/"
        },
        "id": "4x5RZnarSg8R",
        "outputId": "1fd313fb-a997-4e36-bd78-8c030af60b38"
      },
      "execution_count": 64,
      "outputs": [
        {
          "output_type": "stream",
          "name": "stdout",
          "text": [
            "The word 'new' occurs 1 times in the file.\n"
          ]
        }
      ]
    },
    {
      "cell_type": "code",
      "source": [
        "'''22.How can you check if a file is empty before attempting to read its contents?'''\n",
        "file_path = \"example.txt\"\n",
        "\n",
        "try:\n",
        "    with open(file_path, 'r') as file:\n",
        "        content = file.read()\n",
        "        if not content.strip():\n",
        "            print(\"The file is empty.\")\n",
        "        else:\n",
        "            print(content)\n",
        "except FileNotFoundError:\n",
        "    print(\"File not found.\")"
      ],
      "metadata": {
        "colab": {
          "base_uri": "https://localhost:8080/"
        },
        "id": "nmBQvMh4ZmYk",
        "outputId": "4c54501f-42c0-427e-a4ee-2c7e8c079bcc"
      },
      "execution_count": 65,
      "outputs": [
        {
          "output_type": "stream",
          "name": "stdout",
          "text": [
            "Hello, this is a line of text.This is a new line of text.\n",
            "\n"
          ]
        }
      ]
    },
    {
      "cell_type": "code",
      "source": [
        "'''23. Write a Python program that writes to a log file when an error occurs during file handling.'''\n",
        "import logging\n",
        "\n",
        "# Configure logging to write to a file\n",
        "logging.basicConfig(\n",
        "    filename='file_error.log',\n",
        "    level=logging.ERROR,\n",
        "    format='%(asctime)s - %(levelname)s - %(message)s'\n",
        ")\n",
        "\n",
        "file_name = \"nonexistent_file.txt\"  # Change this to test with existing or missing files\n",
        "\n",
        "try:\n",
        "    with open(file_name, \"r\") as file:\n",
        "        content = file.read()\n",
        "        print(\"File content:\\n\", content)\n",
        "except FileNotFoundError as e:\n",
        "    logging.error(\"File not found: %s\", file_name)\n",
        "    print(\"Error: File not found. Logged the error.\")\n",
        "except PermissionError as e:\n",
        "    logging.error(\"Permission denied when accessing file: %s\", file_name)\n",
        "    print(\"Error: Permission denied. Logged the error.\")\n",
        "except Exception as e:\n",
        "    logging.error(\"An unexpected error occurred: %s\", e)\n",
        "    print(\"An unexpected error occurred. Logged the error.\")\n"
      ],
      "metadata": {
        "colab": {
          "base_uri": "https://localhost:8080/"
        },
        "id": "MRO-wag4ZvXm",
        "outputId": "67fd4b37-1339-454d-82cc-1160d544b4b7"
      },
      "execution_count": 67,
      "outputs": [
        {
          "output_type": "stream",
          "name": "stderr",
          "text": [
            "ERROR:root:File not found: nonexistent_file.txt\n"
          ]
        },
        {
          "output_type": "stream",
          "name": "stdout",
          "text": [
            "Error: File not found. Logged the error.\n"
          ]
        }
      ]
    },
    {
      "cell_type": "code",
      "source": [],
      "metadata": {
        "id": "EkSN8BBFaBnG"
      },
      "execution_count": null,
      "outputs": []
    }
  ]
}